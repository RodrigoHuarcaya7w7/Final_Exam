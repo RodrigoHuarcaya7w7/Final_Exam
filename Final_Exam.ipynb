{
  "metadata": {
    "kernelspec": {
      "name": "python",
      "display_name": "Python (Pyodide)",
      "language": "python"
    },
    "language_info": {
      "codemirror_mode": {
        "name": "python",
        "version": 3
      },
      "file_extension": ".py",
      "mimetype": "text/x-python",
      "name": "python",
      "nbconvert_exporter": "python",
      "pygments_lexer": "ipython3",
      "version": "3.8"
    }
  },
  "nbformat_minor": 4,
  "nbformat": 4,
  "cells": [
    {
      "cell_type": "code",
      "source": "## Ejercicio 2 - Cree una celda markdown con el título del cuaderno",
      "metadata": {
        "trusted": true
      },
      "outputs": [],
      "execution_count": null
    },
    {
      "cell_type": "markdown",
      "source": "# Final_Exam\n",
      "metadata": {}
    },
    {
      "cell_type": "code",
      "source": "##Ejercicio 3 - Cree una celda markdown para una introducción. ",
      "metadata": {
        "trusted": true
      },
      "outputs": [],
      "execution_count": null
    },
    {
      "cell_type": "markdown",
      "source": "# In this notebook, Data Science Tools and Ecosystem are summarized.",
      "metadata": {}
    },
    {
      "cell_type": "code",
      "source": "# In this notebook, Data Science Tools and Ecosystem are summarized.",
      "metadata": {
        "trusted": true
      },
      "outputs": [],
      "execution_count": null
    },
    {
      "cell_type": "markdown",
      "source": "Some of the popular languages that Data Scientists use are:\n1. Python\n2. R\n3. SQL",
      "metadata": {}
    },
    {
      "cell_type": "code",
      "source": "Some of the popular languages that Data Scientists use are:\n1. Python\n2. R\n3. SQL",
      "metadata": {
        "trusted": true
      },
      "outputs": [],
      "execution_count": null
    },
    {
      "cell_type": "code",
      "source": "##Ejercicio 4 - Cree una celda markdown para enumerar los lenguajes de la ciencia de datos. ",
      "metadata": {
        "trusted": true
      },
      "outputs": [],
      "execution_count": null
    },
    {
      "cell_type": "code",
      "source": "##Ejercicio 5 - Cree una celda markdown para listar bibliotecas de ciencia de datos. ",
      "metadata": {
        "trusted": true
      },
      "outputs": [],
      "execution_count": null
    },
    {
      "cell_type": "markdown",
      "source": "Some of the commonly used libraries used by Data Scientists include:\n- Pandas\n- NumPy\n- Matplotlib\n",
      "metadata": {}
    },
    {
      "cell_type": "code",
      "source": "Some of the commonly used libraries used by Data Scientists include:\n- Pandas\n- NumPy\n- Matplotlib",
      "metadata": {
        "trusted": true
      },
      "outputs": [],
      "execution_count": null
    },
    {
      "cell_type": "markdown",
      "source": "##Ejercicio 6 - Cree una celda markdown con una tabla de herramientas de Ciencia de Datos. (3 ptos)",
      "metadata": {}
    },
    {
      "cell_type": "markdown",
      "source": "| Data Science Tools |\n|--------------------|\n| Jupyter Notebook   |\n| RStudio            |\n| PyCharm            |",
      "metadata": {}
    },
    {
      "cell_type": "code",
      "source": "| Data Science Tools |\n|--------------------|\n| Jupyter Notebook   |\n| RStudio            |\n| PyCharm            |",
      "metadata": {
        "trusted": true
      },
      "outputs": [],
      "execution_count": null
    },
    {
      "cell_type": "code",
      "source": "#Ejercicio 7 - Cree una celda markdown introduciendo ejemplos de expresiones aritméticas.",
      "metadata": {
        "trusted": true
      },
      "outputs": [],
      "execution_count": null
    },
    {
      "cell_type": "markdown",
      "source": "### Examples of Evaluating Arithmetic Expressions in Python\n\nHere are some examples of how to evaluate arithmetic expressions in Python.\n",
      "metadata": {}
    },
    {
      "cell_type": "code",
      "source": "### Examples of Evaluating Arithmetic Expressions in Python\n\nHere are some examples of how to evaluate arithmetic expressions in Python.",
      "metadata": {
        "trusted": true
      },
      "outputs": [],
      "execution_count": null
    },
    {
      "cell_type": "code",
      "source": "##Ejercicio 8 - Cree una celda de códigopara multiplicar y sumar números. (2 ptos)",
      "metadata": {
        "trusted": true
      },
      "outputs": [],
      "execution_count": null
    },
    {
      "cell_type": "markdown",
      "source": "# This is a simple example of an arithmetic expression for multiplying and then adding integers.\n# We multiply 3 by 4 and then add 5.\n \n",
      "metadata": {}
    },
    {
      "cell_type": "code",
      "source": "result = (3 * 4) + 5\nprint(\"The result of the expression (3 * 4) + 5 is:\", result)",
      "metadata": {
        "trusted": true
      },
      "outputs": [
        {
          "name": "stdout",
          "text": "The result of the expression (3 * 4) + 5 is: 17\n",
          "output_type": "stream"
        }
      ],
      "execution_count": 17
    },
    {
      "cell_type": "code",
      "source": "##Ejercicio 9 - Cree una celda de código para convertir minutos en horas.",
      "metadata": {
        "trusted": true
      },
      "outputs": [],
      "execution_count": null
    },
    {
      "cell_type": "markdown",
      "source": "# This is an example of how to turn minutes into hours.\n# We want to convert 200 minutes into hours.\n\n\n\n",
      "metadata": {}
    },
    {
      "cell_type": "code",
      "source": "minutes = 200\nhours = minutes / 60\nprint(\"200 minutes equal\", hours, \"hours.\")\n\n",
      "metadata": {
        "trusted": true
      },
      "outputs": [
        {
          "name": "stdout",
          "text": "200 minutes equal 3.3333333333333335 hours.\n",
          "output_type": "stream"
        }
      ],
      "execution_count": 14
    },
    {
      "cell_type": "code",
      "source": "##Ejercicio 10 -Inserte una celda de código para listar Objetivos. (3 pts)",
      "metadata": {
        "trusted": true
      },
      "outputs": [],
      "execution_count": null
    },
    {
      "cell_type": "markdown",
      "source": "**Objetivos:**\n\n- Enumerar algunos de los lenguajes comunes utilizados en Ciencia de Datos.\n- Listar algunas bibliotecas populares utilizadas en Ciencia de Datos.\n- Presentar una tabla de herramientas utilizadas en Ciencia de Datos.\n",
      "metadata": {}
    },
    {
      "cell_type": "code",
      "source": "**Objetivos:**\n\n- Enumerar algunos de los lenguajes comunes utilizados en Ciencia de Datos.\n- Listar algunas bibliotecas populares utilizadas en Ciencia de Datos.\n- Presentar una tabla de herramientas utilizadas en Ciencia de Datos.\n",
      "metadata": {
        "trusted": true
      },
      "outputs": [],
      "execution_count": null
    },
    {
      "cell_type": "code",
      "source": "##Ejercicio 11 - Cree una celda markdown para indicar el nombre del Autor. (2 ptos)\n",
      "metadata": {
        "trusted": true
      },
      "outputs": [],
      "execution_count": null
    },
    {
      "cell_type": "markdown",
      "source": "## Autor\nRodrigo Enrique Huarcaya Galarza\n",
      "metadata": {}
    },
    {
      "cell_type": "code",
      "source": "## Autor\nRodrigo Enrique Huarcaya Galarza",
      "metadata": {
        "trusted": true
      },
      "outputs": [],
      "execution_count": null
    },
    {
      "cell_type": "code",
      "source": "",
      "metadata": {
        "trusted": true
      },
      "outputs": [],
      "execution_count": null
    }
  ]
}